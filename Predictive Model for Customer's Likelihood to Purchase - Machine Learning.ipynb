{
 "cells": [
  {
   "cell_type": "code",
   "execution_count": 81,
   "id": "66e37804-1b2e-4d5c-9ff4-873d0b11e2c1",
   "metadata": {},
   "outputs": [],
   "source": [
    "import pandas as pd\n",
    "import numpy as np\n",
    "import matplotlib.pyplot as plt\n",
    "import seaborn as sns\n",
    "from sklearn.model_selection import train_test_split, cross_val_score, StratifiedKFold\n",
    "from sklearn.preprocessing import StandardScaler\n",
    "from sklearn.linear_model import LogisticRegression\n",
    "from sklearn.tree import DecisionTreeClassifier\n",
    "from sklearn.svm import SVC\n",
    "from sklearn.metrics import accuracy_score, classification_report, confusion_matrix, roc_auc_score, f1_score\n",
    "from sklearn.ensemble import HistGradientBoostingClassifier"
   ]
  },
  {
   "cell_type": "code",
   "execution_count": 83,
   "id": "823a5a64-7293-4307-9361-0ae7a635d2b9",
   "metadata": {},
   "outputs": [],
   "source": [
    "# Load the dataset\n",
    "# Did a visual inspection, data cleaning, formatting, and filled in missing values of 8 and 16 in Product_ID in Excel.\n",
    "df_products = pd.read_csv(\"/Users/gillianmondero/Downloads/productnew.csv\") #Products Data\n",
    "df_customers = pd.read_csv(\"/Users/gillianmondero/Downloads/customernew.csv\") #Customers Data\n",
    "df_transactions = pd.read_csv(\"/Users/gillianmondero/Downloads/transactionsnew.csv\") #Transactions Data"
   ]
  },
  {
   "cell_type": "code",
   "execution_count": 85,
   "id": "45d0405d-5eef-4d88-9f64-525d0da3deb5",
   "metadata": {},
   "outputs": [
    {
     "name": "stdout",
     "output_type": "stream",
     "text": [
      "<class 'pandas.core.frame.DataFrame'>\n",
      "Index: 9000 entries, 0 to 9999\n",
      "Data columns (total 7 columns):\n",
      " #   Column            Non-Null Count  Dtype         \n",
      "---  ------            --------------  -----         \n",
      " 0   Company_ID        8093 non-null   Int64         \n",
      " 1   Product_ID        9000 non-null   Int64         \n",
      " 2   Quantity          9000 non-null   float64       \n",
      " 3   Transaction_Date  9000 non-null   datetime64[ns]\n",
      " 4   Product_Price     9000 non-null   float64       \n",
      " 5   Total_Cost        9000 non-null   float64       \n",
      " 6   Log_Total_Cost    9000 non-null   float64       \n",
      "dtypes: Int64(2), datetime64[ns](1), float64(4)\n",
      "memory usage: 580.1 KB\n",
      "None\n",
      "    Company_ID  Product_ID  Quantity Transaction_Date  Product_Price  \\\n",
      "0           88           6       6.0       2024-03-26      194379.15   \n",
      "1           29          19      15.0       2024-07-09       97930.99   \n",
      "2           28          18       7.0       2024-04-13      126095.55   \n",
      "3           85          12      10.0       2023-09-06       83822.46   \n",
      "4           47           3       7.0       2021-07-06       99575.61   \n",
      "5           80          11       4.0       2021-07-12      160658.68   \n",
      "7           21          20       8.0       2023-10-31      229217.94   \n",
      "8           96           1       0.0       2024-02-25      144758.78   \n",
      "9            3          20       5.0       2021-03-29      238293.85   \n",
      "10           6          16       5.0       2024-01-12       98263.85   \n",
      "\n",
      "    Total_Cost  Log_Total_Cost  \n",
      "0   1166274.90       13.969326  \n",
      "1   1468964.85       14.200069  \n",
      "2    882668.85       13.690707  \n",
      "3    838224.60       13.639043  \n",
      "4    697029.27       13.454584  \n",
      "5    642634.72       13.373333  \n",
      "7   1833743.52       14.421871  \n",
      "8         0.00        0.000000  \n",
      "9   1191469.25       13.990699  \n",
      "10   491319.25       13.104851  \n"
     ]
    }
   ],
   "source": [
    "# Check dataset structure\n",
    "print(df.info())\n",
    "print(df.head(10))"
   ]
  },
  {
   "cell_type": "code",
   "execution_count": 87,
   "id": "d7a8c4f0-3dfc-49a5-bb2c-c62a2106649d",
   "metadata": {},
   "outputs": [
    {
     "name": "stdout",
     "output_type": "stream",
     "text": [
      "<class 'pandas.core.frame.DataFrame'>\n",
      "RangeIndex: 20 entries, 0 to 19\n",
      "Data columns (total 3 columns):\n",
      " #   Column         Non-Null Count  Dtype \n",
      "---  ------         --------------  ----- \n",
      " 0   Product_ID     20 non-null     int64 \n",
      " 1   Product_Name   20 non-null     object\n",
      " 2   Product_Price  20 non-null     object\n",
      "dtypes: int64(1), object(2)\n",
      "memory usage: 612.0+ bytes\n",
      "None\n",
      "   Product_ID            Product_Name Product_Price\n",
      "0           1      FinPredictor Suite       140,000\n",
      "1           2  MarketMinder Analytics       168,000\n",
      "2           3    TrendWise Forecaster       100,800\n",
      "3           4  CustomerScope Insights       123,200\n",
      "4           5     SalesSync Optimizer        84,000\n"
     ]
    }
   ],
   "source": [
    "#Preprocessing Products Data\n",
    "df = pd.read_csv(\"/Users/gillianmondero/Downloads/productnew.csv\") #Products Data\n",
    "print(df.info())\n",
    "print(df.head())"
   ]
  },
  {
   "cell_type": "code",
   "execution_count": 89,
   "id": "c1a63195-03e4-4182-ba2f-f1682c667ba5",
   "metadata": {},
   "outputs": [
    {
     "name": "stdout",
     "output_type": "stream",
     "text": [
      "   Product_ID                 Product_Name  Product_Price\n",
      "0           1           FinPredictor Suite         140000\n",
      "1           2       MarketMinder Analytics         168000\n",
      "2           3         TrendWise Forecaster         100800\n",
      "3           4       CustomerScope Insights         123200\n",
      "4           5          SalesSync Optimizer          84000\n",
      "5           6         RevenueVue Dashboard         179200\n",
      "6           7  DataBridge Integration Tool         151200\n",
      "7           8            RiskRadar Monitor         151200\n",
      "8           9                    Product 9         112000\n",
      "9          10           SegmentX Targeting          89600\n"
     ]
    }
   ],
   "source": [
    "# Convert Product_Price to numerical format by removing commas and converting to integer\n",
    "df['Product_Price'] = df['Product_Price'].str.replace(',', '').astype(int)\n",
    "print(df.head(10))"
   ]
  },
  {
   "cell_type": "code",
   "execution_count": 91,
   "id": "b74ad981-ca2c-4cab-acf4-644e9b51a991",
   "metadata": {},
   "outputs": [],
   "source": [
    "df. to_csv('products_data.csv', index=False)"
   ]
  },
  {
   "cell_type": "code",
   "execution_count": 93,
   "id": "a60c05a6-a955-4d08-9d30-6e7d6dd0f73d",
   "metadata": {},
   "outputs": [
    {
     "name": "stdout",
     "output_type": "stream",
     "text": [
      "<class 'pandas.core.frame.DataFrame'>\n",
      "RangeIndex: 100 entries, 0 to 99\n",
      "Data columns (total 4 columns):\n",
      " #   Column          Non-Null Count  Dtype  \n",
      "---  ------          --------------  -----  \n",
      " 0   Company_ID      100 non-null    int64  \n",
      " 1   Company_Name    100 non-null    object \n",
      " 2   Company_Profit  88 non-null     float64\n",
      " 3   City            100 non-null    object \n",
      "dtypes: float64(1), int64(1), object(2)\n",
      "memory usage: 3.3+ KB\n",
      "None\n",
      "   Company_ID        Company_Name  Company_Profit         City\n",
      "0           1    Tech Enterprises         80701.0        Pasig\n",
      "1           2     Global Partners         80511.0       Taguig\n",
      "2           3  Quantum Associates        110664.0        Pasig\n",
      "3           4       Prime Network             NaN       Taguig\n",
      "4           5      Elite Ventures         69427.0       Makati\n",
      "5           6       Elite Network         36967.0        Davao\n",
      "6           7   Dynamic Solutions         36661.0        Pasig\n",
      "7           8   Green Enterprises        107952.0       Manila\n",
      "8           9  Global Enterprises         96046.0        Pasig\n",
      "9          10     Pioneer Network         65200.0  Mandaluyong\n"
     ]
    }
   ],
   "source": [
    "#Preprocessing Customers Data\n",
    "df = pd.read_csv(\"/Users/gillianmondero/Downloads/customernew.csv\") #Customers Data\n",
    "print(df.info())\n",
    "print(df.head(10))"
   ]
  },
  {
   "cell_type": "code",
   "execution_count": 95,
   "id": "3d814908-e6ac-4103-aed3-0e6a5a6a76c6",
   "metadata": {},
   "outputs": [
    {
     "name": "stdout",
     "output_type": "stream",
     "text": [
      "Missing values before handling:\n",
      " Company_ID         0\n",
      "Company_Name       0\n",
      "Company_Profit    12\n",
      "City               0\n",
      "dtype: int64\n"
     ]
    }
   ],
   "source": [
    "# Check for missing values\n",
    "missing_values = df.isnull().sum()\n",
    "print(\"Missing values before handling:\\n\", missing_values)"
   ]
  },
  {
   "cell_type": "code",
   "execution_count": 97,
   "id": "19107fc1-67b5-4b37-9526-33e68d4b9d32",
   "metadata": {},
   "outputs": [
    {
     "name": "stdout",
     "output_type": "stream",
     "text": [
      "\n",
      "Missing values after handling:\n",
      " Company_ID        0\n",
      "Company_Name      0\n",
      "Company_Profit    0\n",
      "City              0\n",
      "dtype: int64\n"
     ]
    }
   ],
   "source": [
    "# Fill missing values in 'Company_Profit' with the median\n",
    "df['Company_Profit'] = df['Company_Profit'].fillna(df['Company_Profit'].median())\n",
    "\n",
    "# Verify missing values are handled\n",
    "missing_values_after = df.isnull().sum()\n",
    "print(\"\\nMissing values after handling:\\n\", missing_values_after)"
   ]
  },
  {
   "cell_type": "code",
   "execution_count": 99,
   "id": "4181a421-d14b-4360-b5ca-8e3e8a2e93e9",
   "metadata": {},
   "outputs": [
    {
     "name": "stdout",
     "output_type": "stream",
     "text": [
      "\n",
      "Number of duplicate rows before removal: 0\n"
     ]
    }
   ],
   "source": [
    "# Check for duplicate entries\n",
    "duplicate_rows = df.duplicated().sum()\n",
    "print(\"\\nNumber of duplicate rows before removal:\", duplicate_rows)"
   ]
  },
  {
   "cell_type": "code",
   "execution_count": 101,
   "id": "68f59c11-073d-4895-acaa-c97755bff858",
   "metadata": {},
   "outputs": [
    {
     "name": "stdout",
     "output_type": "stream",
     "text": [
      "\n",
      "Number of outliers detected: 0\n"
     ]
    }
   ],
   "source": [
    "# Outlier Detection using the IQR method\n",
    "Q1 = df['Company_Profit'].quantile(0.25)\n",
    "Q3 = df['Company_Profit'].quantile(0.75)\n",
    "IQR = Q3 - Q1\n",
    "\n",
    "# Defining outlier thresholds\n",
    "lower_bound = Q1 - 1.5 * IQR\n",
    "upper_bound = Q3 + 1.5 * IQR\n",
    "\n",
    "# Identifying outliers\n",
    "outliers = df[(df['Company_Profit'] < lower_bound) | (df['Company_Profit'] > upper_bound)]\n",
    "\n",
    "# Display outliers found\n",
    "print(\"\\nNumber of outliers detected:\", len(outliers))"
   ]
  },
  {
   "cell_type": "code",
   "execution_count": 103,
   "id": "e45fb083-5f8a-4eff-88d6-7e3c88c67cc6",
   "metadata": {},
   "outputs": [],
   "source": [
    "df. to_csv('customers_data.csv', index=False)"
   ]
  },
  {
   "cell_type": "code",
   "execution_count": 105,
   "id": "400fda62-62f1-4cd8-8368-c551abf34e34",
   "metadata": {},
   "outputs": [
    {
     "name": "stdout",
     "output_type": "stream",
     "text": [
      "<class 'pandas.core.frame.DataFrame'>\n",
      "RangeIndex: 10000 entries, 0 to 9999\n",
      "Data columns (total 7 columns):\n",
      " #   Column            Non-Null Count  Dtype  \n",
      "---  ------            --------------  -----  \n",
      " 0   Transaction_ID    9000 non-null   float64\n",
      " 1   Company_ID        9000 non-null   float64\n",
      " 2   Product_ID        9000 non-null   float64\n",
      " 3   Quantity          10000 non-null  object \n",
      " 4   Transaction_Date  10000 non-null  object \n",
      " 5   Product_Price     9000 non-null   float64\n",
      " 6   Total_Cost        9000 non-null   float64\n",
      "dtypes: float64(5), object(2)\n",
      "memory usage: 547.0+ KB\n",
      "None\n",
      "   Transaction_ID  Company_ID  Product_ID Quantity Transaction_Date  \\\n",
      "0             1.0        88.0         6.0        6       26-03-2024   \n",
      "1             2.0        29.0        19.0       15       09-07-2024   \n",
      "2             NaN        28.0        18.0        7       13-04-2024   \n",
      "3             4.0        85.0        12.0  #DIV/0!       06-09-2023   \n",
      "4             5.0        47.0         3.0        7       06-07-2021   \n",
      "5             6.0        80.0        11.0        4       12-07-2021   \n",
      "6             7.0         NaN         NaN       15       01-11-2023   \n",
      "7             8.0        21.0        20.0        8       31-10-2023   \n",
      "8             9.0        96.0         1.0        0       25-02-2024   \n",
      "9            10.0         3.0        20.0        5       29-03-2021   \n",
      "\n",
      "   Product_Price  Total_Cost  \n",
      "0      194379.15   1075200.0  \n",
      "1       97930.99   1428000.0  \n",
      "2      126095.55    940800.0  \n",
      "3            NaN   1008000.0  \n",
      "4       99575.61    705600.0  \n",
      "5      160658.68    627200.0  \n",
      "6      133548.75   1960000.0  \n",
      "7      229217.94   1792000.0  \n",
      "8      144758.78         NaN  \n",
      "9      238293.85   1120000.0  \n"
     ]
    }
   ],
   "source": [
    "#Preprocessing Transactions Data\n",
    "df = pd.read_csv(\"/Users/gillianmondero/Downloads/transactionsnew.csv\") #Transactions Data\n",
    "print(df.info())\n",
    "print(df.head(10))"
   ]
  },
  {
   "cell_type": "code",
   "execution_count": 107,
   "id": "decef47d-53b8-476d-96da-be706bfe84c8",
   "metadata": {},
   "outputs": [
    {
     "name": "stdout",
     "output_type": "stream",
     "text": [
      "Missing values before handling:\n",
      " Transaction_ID      1000\n",
      "Company_ID          1000\n",
      "Product_ID          1000\n",
      "Quantity               0\n",
      "Transaction_Date       0\n",
      "Product_Price       1000\n",
      "Total_Cost          1000\n",
      "dtype: int64\n"
     ]
    }
   ],
   "source": [
    "# Check for missing values\n",
    "missing_values = df.isnull().sum()\n",
    "print(\"Missing values before handling:\\n\", missing_values)"
   ]
  },
  {
   "cell_type": "code",
   "execution_count": 109,
   "id": "772adbd9-0498-48d5-9118-530df16f2c3d",
   "metadata": {},
   "outputs": [
    {
     "name": "stdout",
     "output_type": "stream",
     "text": [
      "Dropped 'Transaction_ID' column.\n",
      "   Company_ID  Product_ID Quantity Transaction_Date  Product_Price  Total_Cost\n",
      "0        88.0         6.0        6       26-03-2024      194379.15   1075200.0\n",
      "1        29.0        19.0       15       09-07-2024       97930.99   1428000.0\n",
      "2        28.0        18.0        7       13-04-2024      126095.55    940800.0\n",
      "3        85.0        12.0  #DIV/0!       06-09-2023            NaN   1008000.0\n",
      "4        47.0         3.0        7       06-07-2021       99575.61    705600.0 \n",
      "\n"
     ]
    }
   ],
   "source": [
    "# Drop the 'Transaction_ID' column\n",
    "df.drop(columns=['Transaction_ID'], inplace=True)\n",
    "print(\"Dropped 'Transaction_ID' column.\")\n",
    "print(df.head(), \"\\n\")"
   ]
  },
  {
   "cell_type": "code",
   "execution_count": 111,
   "id": "ad511cab-db29-4738-aa7f-5a7f4f92cd0c",
   "metadata": {},
   "outputs": [
    {
     "name": "stdout",
     "output_type": "stream",
     "text": [
      "Converted 'Transaction_Date' to datetime format. Sample Data:\n",
      "  Transaction_Date\n",
      "0       2024-03-26\n",
      "1       2024-07-09\n",
      "2       2024-04-13\n",
      "3       2023-09-06\n",
      "4       2021-07-06\n"
     ]
    }
   ],
   "source": [
    "# Convert 'Transaction_Date' to datetime format\n",
    "df['Transaction_Date'] = pd.to_datetime(df['Transaction_Date'], format=\"%d-%m-%Y\", errors='coerce')\n",
    "print(\"Converted 'Transaction_Date' to datetime format. Sample Data:\")\n",
    "print(df[['Transaction_Date']].head())"
   ]
  },
  {
   "cell_type": "code",
   "execution_count": 113,
   "id": "f98328d3-de28-4a5d-baed-1f68347a6e27",
   "metadata": {},
   "outputs": [
    {
     "name": "stdout",
     "output_type": "stream",
     "text": [
      "Converted numerical columns to appropriate data types.\n",
      "Company_ID                   Int64\n",
      "Product_ID                   Int64\n",
      "Quantity                   float64\n",
      "Transaction_Date    datetime64[ns]\n",
      "Product_Price              float64\n",
      "Total_Cost                 float64\n",
      "dtype: object\n"
     ]
    }
   ],
   "source": [
    "# Convert data types\n",
    "df['Company_ID'] = df['Company_ID'].astype('Int64')\n",
    "df['Product_ID'] = df['Product_ID'].astype('Int64')\n",
    "df['Quantity'] = pd.to_numeric(df['Quantity'], errors='coerce')\n",
    "df['Product_Price'] = pd.to_numeric(df['Product_Price'], errors='coerce')\n",
    "df['Total_Cost'] = pd.to_numeric(df['Total_Cost'], errors='coerce')\n",
    "print(\"Converted numerical columns to appropriate data types.\")\n",
    "print(df.dtypes)"
   ]
  },
  {
   "cell_type": "code",
   "execution_count": 115,
   "id": "991608b7-5a7e-41c6-a042-7fca13f47cff",
   "metadata": {},
   "outputs": [
    {
     "name": "stdout",
     "output_type": "stream",
     "text": [
      "Step 3: Cleaned 'Quantity' column, converting to numeric.\n",
      "   Quantity\n",
      "0       6.0\n",
      "1      15.0\n",
      "2       7.0\n",
      "3       NaN\n",
      "4       7.0 \n",
      "\n"
     ]
    }
   ],
   "source": [
    "# Clean the 'Quantity' column by converting it to numeric and handling errors\n",
    "df['Quantity'] = pd.to_numeric(df['Quantity'], errors='coerce')\n",
    "print(\"Step 3: Cleaned 'Quantity' column, converting to numeric.\")\n",
    "print(df[['Quantity']].head(), \"\\n\")"
   ]
  },
  {
   "cell_type": "code",
   "execution_count": 117,
   "id": "57b72759-8fbc-4de8-af20-f61f6dc08812",
   "metadata": {},
   "outputs": [
    {
     "name": "stdout",
     "output_type": "stream",
     "text": [
      "Filled missing 'Total_Cost'\n",
      "   Quantity  Product_Price  Total_Cost\n",
      "0       6.0      194379.15   1075200.0\n",
      "1      15.0       97930.99   1428000.0\n",
      "2       7.0      126095.55    940800.0\n",
      "3       NaN            NaN   1008000.0\n",
      "4       7.0       99575.61    705600.0\n"
     ]
    }
   ],
   "source": [
    "# Fill missing 'Total_Cost' using 'Quantity * Product_Price'\n",
    "df.loc[df['Total_Cost'].isna(), 'Total_Cost'] = df['Quantity'] * df['Product_Price']\n",
    "print(\"Filled missing 'Total_Cost'\")\n",
    "print(df[['Quantity', 'Product_Price', 'Total_Cost']].head())"
   ]
  },
  {
   "cell_type": "code",
   "execution_count": 119,
   "id": "b8793965-81c4-4ade-8148-287a5b1038f3",
   "metadata": {},
   "outputs": [
    {
     "name": "stdout",
     "output_type": "stream",
     "text": [
      "Filled missing 'Product_Price\n",
      "   Quantity  Product_Price  Total_Cost\n",
      "0       6.0      194379.15   1075200.0\n",
      "1      15.0       97930.99   1428000.0\n",
      "2       7.0      126095.55    940800.0\n",
      "3       NaN            NaN   1008000.0\n",
      "4       7.0       99575.61    705600.0\n"
     ]
    }
   ],
   "source": [
    "# Fill missing 'Product_Price' using 'Total_Cost / Quantity'\n",
    "df.loc[df['Product_Price'].isna(), 'Product_Price'] = df['Total_Cost'] / df['Quantity']\n",
    "print(\"Filled missing 'Product_Price\")\n",
    "print(df[['Quantity', 'Product_Price', 'Total_Cost']].head())"
   ]
  },
  {
   "cell_type": "code",
   "execution_count": 121,
   "id": "d8c799f9-3863-4100-93dd-73f5f2910b91",
   "metadata": {},
   "outputs": [
    {
     "name": "stdout",
     "output_type": "stream",
     "text": [
      "Filled missing 'Quantity\n",
      "   Quantity  Product_Price  Total_Cost\n",
      "0       6.0      194379.15   1075200.0\n",
      "1      15.0       97930.99   1428000.0\n",
      "2       7.0      126095.55    940800.0\n",
      "3       NaN            NaN   1008000.0\n",
      "4       7.0       99575.61    705600.0\n"
     ]
    }
   ],
   "source": [
    "# Fill missing 'Quantity' using 'Total_Cost / Product_Price'\n",
    "df.loc[df['Quantity'].isna(), 'Quantity'] = df['Total_Cost'] / df['Product_Price']\n",
    "print(\"Filled missing 'Quantity\")\n",
    "print(df[['Quantity', 'Product_Price', 'Total_Cost']].head())"
   ]
  },
  {
   "cell_type": "code",
   "execution_count": 123,
   "id": "1c290f4b-b334-4a64-957c-f68d7814d08b",
   "metadata": {},
   "outputs": [
    {
     "name": "stdout",
     "output_type": "stream",
     "text": [
      "Imputed missing values using median per 'Product_ID\n",
      "   Company_ID  Product_ID  Quantity Transaction_Date  Product_Price  \\\n",
      "0          88           6       6.0       2024-03-26      194379.15   \n",
      "1          29          19      15.0       2024-07-09       97930.99   \n",
      "2          28          18       7.0       2024-04-13      126095.55   \n",
      "3          85          12      10.0       2023-09-06       83822.46   \n",
      "4          47           3       7.0       2021-07-06       99575.61   \n",
      "\n",
      "   Total_Cost  \n",
      "0   1075200.0  \n",
      "1   1428000.0  \n",
      "2    940800.0  \n",
      "3   1008000.0  \n",
      "4    705600.0  \n"
     ]
    }
   ],
   "source": [
    "# Impute missing values using median per 'Product_ID'\n",
    "df['Quantity'] = df.groupby('Product_ID')['Quantity'].transform(lambda x: x.fillna(x.median()))\n",
    "df['Product_Price'] = df.groupby('Product_ID')['Product_Price'].transform(lambda x: x.fillna(x.median()))\n",
    "print(\"Imputed missing values using median per 'Product_ID\")\n",
    "print(df.head())"
   ]
  },
  {
   "cell_type": "code",
   "execution_count": 125,
   "id": "fb93b580-6b30-4d00-8d07-a8b284babaa0",
   "metadata": {},
   "outputs": [
    {
     "name": "stdout",
     "output_type": "stream",
     "text": [
      "Recalculated 'Total_Cost' using Quantity * Product_Price.\n",
      "   Quantity  Product_Price  Total_Cost\n",
      "0       6.0      194379.15  1166274.90\n",
      "1      15.0       97930.99  1468964.85\n",
      "2       7.0      126095.55   882668.85\n",
      "3      10.0       83822.46   838224.60\n",
      "4       7.0       99575.61   697029.27 \n",
      "\n"
     ]
    }
   ],
   "source": [
    "# Recalculate 'Total_Cost' and round to 2 decimal places\n",
    "df['Total_Cost'] = (df['Quantity'] * df['Product_Price']).round(2)\n",
    "print(\"Recalculated 'Total_Cost' using Quantity * Product_Price.\")\n",
    "print(df[['Quantity', 'Product_Price', 'Total_Cost']].head(), \"\\n\")\n",
    "missing_values_final = df.isna().sum()"
   ]
  },
  {
   "cell_type": "code",
   "execution_count": 127,
   "id": "0f542e61-4bc6-4f11-863c-60b71f3c1a49",
   "metadata": {},
   "outputs": [
    {
     "name": "stdout",
     "output_type": "stream",
     "text": [
      "Removed outliers using IQR method. Updated Shape: (9000, 6)\n"
     ]
    }
   ],
   "source": [
    "# Identify outliers using IQR method\n",
    "Q1 = df['Quantity'].quantile(0.25)\n",
    "Q3 = df['Quantity'].quantile(0.75)\n",
    "IQR = Q3 - Q1\n",
    "lower_bound = Q1 - 1.5 * IQR\n",
    "upper_bound = Q3 + 1.5 * IQR\n",
    "\n",
    "df = df[(df['Quantity'] >= lower_bound) & (df['Quantity'] <= upper_bound)]\n",
    "print(\"Removed outliers using IQR method. Updated Shape:\", df.shape)\n",
    "\n",
    "# Since 0 is above the lower bound (-12.5), it is not considered an outlier by standard statistical methods. It might represent as a cancellation or returns."
   ]
  },
  {
   "cell_type": "code",
   "execution_count": 129,
   "id": "3813d2c8-eb4d-4ae1-913a-7c663afd384d",
   "metadata": {},
   "outputs": [
    {
     "name": "stdout",
     "output_type": "stream",
     "text": [
      "Total_Cost\n",
      "   Log_Total_Cost\n",
      "0       13.969326\n",
      "1       14.200069\n",
      "2       13.690707\n",
      "3       13.639043\n",
      "4       13.454584\n"
     ]
    }
   ],
   "source": [
    "# Apply log transformation to handle skewed data\n",
    "df['Log_Total_Cost'] = np.log1p(df['Total_Cost'])\n",
    "\n",
    "# Execute Results\n",
    "print('Total_Cost')  \n",
    "print(df[[\"Log_Total_Cost\"]].head())"
   ]
  },
  {
   "cell_type": "code",
   "execution_count": 131,
   "id": "387866d2-cae4-4f30-a6cb-d59077c7db08",
   "metadata": {},
   "outputs": [
    {
     "name": "stdout",
     "output_type": "stream",
     "text": [
      "Prepared dataset for ML training.\n",
      "      Quantity  Product_Price  Total_Cost  Log_Total_Cost\n",
      "8716       9.0      123370.19  1110331.71       13.920170\n",
      "9219       0.0      114952.05        0.00        0.000000\n",
      "8610       4.0       84134.63   336538.52       12.726471\n",
      "5443      14.0      115028.69  1610401.66       14.291995\n",
      "1967      19.0       86606.91  1645531.29       14.313574 \n",
      "\n"
     ]
    }
   ],
   "source": [
    "# Prepare dataset for ML training\n",
    "df_train = df.dropna(subset=['Company_ID', 'Product_ID'])\n",
    "if len(df_train) > 5000:\n",
    "    df_train = df_train.sample(5000, random_state=42)\n",
    "X_train = df_train.drop(columns=['Company_ID', 'Product_ID', 'Transaction_Date']).fillna(0)\n",
    "print(\"Prepared dataset for ML training.\")\n",
    "print(X_train.head(), \"\\n\")"
   ]
  },
  {
   "cell_type": "code",
   "execution_count": 133,
   "id": "e088751a-2c39-4e0c-bc8d-b7429669e18c",
   "metadata": {},
   "outputs": [
    {
     "name": "stdout",
     "output_type": "stream",
     "text": [
      "Trained ML Model for Company_ID Prediction.\n"
     ]
    }
   ],
   "source": [
    "# Train ML Model for Company_ID Prediction\n",
    "y_train = df_train.loc[X_train.index, 'Company_ID']\n",
    "model_company = HistGradientBoostingClassifier(max_depth=10, random_state=42)\n",
    "model_company.fit(X_train, y_train)\n",
    "print(\"Trained ML Model for Company_ID Prediction.\")"
   ]
  },
  {
   "cell_type": "code",
   "execution_count": 134,
   "id": "702efb13-b714-4299-a881-a53106f586ca",
   "metadata": {},
   "outputs": [
    {
     "name": "stdout",
     "output_type": "stream",
     "text": [
      "Predicted missing 'Company_ID' for 907 records.\n",
      "No missing 'Product_ID' values found. Skipping prediction step.\n"
     ]
    }
   ],
   "source": [
    "# Predict Missing Company_ID Values (Only if Missing)\n",
    "missing_company_id_count = df['Company_ID'].isna().sum()\n",
    "\n",
    "if missing_company_id_count > 0:\n",
    "    X_predict = df[df['Company_ID'].isna()].drop(columns=['Company_ID', 'Product_ID', 'Transaction_Date']).fillna(0)\n",
    "\n",
    "    if not X_predict.empty:  # Ensure we have rows before prediction\n",
    "        df.loc[df['Company_ID'].isna(), 'Company_ID'] = model_company.predict(X_predict)\n",
    "        print(f\"Predicted missing 'Company_ID' for {missing_company_id_count} records.\")\n",
    "    else:\n",
    "        print(\"No valid rows found for predicting 'Company_ID'.\")\n",
    "else:\n",
    "    print(\"No missing 'Company_ID' values found. Skipping prediction step.\")\n",
    "\n",
    "# Check if there are missing Product_ID values before prediction\n",
    "missing_product_id_count = df['Product_ID'].isna().sum()\n",
    "\n",
    "if missing_product_id_count > 0:\n",
    "    X_predict = df[df['Product_ID'].isna()].drop(columns=['Company_ID', 'Product_ID', 'Transaction_Date']).fillna(0)\n",
    "\n",
    "    if not X_predict.empty:  # Ensure we have rows before prediction\n",
    "        df.loc[df['Product_ID'].isna(), 'Product_ID'] = model_product.predict(X_predict)\n",
    "        print(f\"Predicted missing 'Product_ID' for {missing_product_id_count} records.\")\n",
    "    else:\n",
    "        print(\"No valid rows found for predicting 'Product_ID'.\")\n",
    "else:\n",
    "    print(\"No missing 'Product_ID' values found. Skipping prediction step.\")"
   ]
  },
  {
   "cell_type": "code",
   "execution_count": 135,
   "id": "c0660b9d-db28-421d-a7ce-4f5045cb30ad",
   "metadata": {},
   "outputs": [
    {
     "name": "stdout",
     "output_type": "stream",
     "text": [
      "Final count of missing values:\n",
      "Company_ID          0\n",
      "Product_ID          0\n",
      "Quantity            0\n",
      "Transaction_Date    0\n",
      "Product_Price       0\n",
      "Total_Cost          0\n",
      "Log_Total_Cost      0\n",
      "dtype: int64 \n",
      "\n"
     ]
    }
   ],
   "source": [
    "# Final check for missing values\n",
    "missing_values_final = df.isna().sum()\n",
    "print(\"Final count of missing values:\")\n",
    "print(missing_values_final, \"\\n\")"
   ]
  },
  {
   "cell_type": "code",
   "execution_count": 141,
   "id": "3528453c-7862-4fdd-84a8-61fe3bbd2be2",
   "metadata": {},
   "outputs": [],
   "source": [
    "df['Transaction_Date'] = df['Transaction_Date'].astype(str)\n",
    "df.to_csv(\"transactions_data.csv\", index=False)"
   ]
  },
  {
   "cell_type": "code",
   "execution_count": 143,
   "id": "757d3d5d-2b04-4976-b114-afd903d3ec4e",
   "metadata": {},
   "outputs": [],
   "source": [
    "# File paths\n",
    "customers_file = \"/Users/gillianmondero/customers_data.csv\"\n",
    "transactions_file = \"/Users/gillianmondero/transactions_data.csv\"\n",
    "products_file = \"/Users/gillianmondero/products_data.csv\"\n",
    "\n",
    "# Load data\n",
    "customers_df = pd.read_csv(\"/Users/gillianmondero/customers_data.csv\")\n",
    "transactions_df = pd.read_csv(\"/Users/gillianmondero/transactions_data.csv\")\n",
    "products_df = pd.read_csv(\"/Users/gillianmondero/products_data.csv\")"
   ]
  },
  {
   "cell_type": "code",
   "execution_count": 145,
   "id": "1b9a5409-031f-463e-9782-6ccb5e03ef6e",
   "metadata": {},
   "outputs": [
    {
     "data": {
      "text/html": [
       "<div>\n",
       "<style scoped>\n",
       "    .dataframe tbody tr th:only-of-type {\n",
       "        vertical-align: middle;\n",
       "    }\n",
       "\n",
       "    .dataframe tbody tr th {\n",
       "        vertical-align: top;\n",
       "    }\n",
       "\n",
       "    .dataframe thead th {\n",
       "        text-align: right;\n",
       "    }\n",
       "</style>\n",
       "<table border=\"1\" class=\"dataframe\">\n",
       "  <thead>\n",
       "    <tr style=\"text-align: right;\">\n",
       "      <th></th>\n",
       "      <th>Company_ID</th>\n",
       "      <th>Product_ID</th>\n",
       "      <th>Quantity</th>\n",
       "      <th>Transaction_Date</th>\n",
       "      <th>Product_Price_x</th>\n",
       "      <th>Total_Cost</th>\n",
       "      <th>Log_Total_Cost</th>\n",
       "      <th>Company_Name</th>\n",
       "      <th>Company_Profit</th>\n",
       "      <th>City</th>\n",
       "      <th>Product_Name</th>\n",
       "      <th>Product_Price_y</th>\n",
       "    </tr>\n",
       "  </thead>\n",
       "  <tbody>\n",
       "    <tr>\n",
       "      <th>0</th>\n",
       "      <td>88</td>\n",
       "      <td>6</td>\n",
       "      <td>6.0</td>\n",
       "      <td>2024-03-26</td>\n",
       "      <td>194379.15</td>\n",
       "      <td>1166274.90</td>\n",
       "      <td>13.969326</td>\n",
       "      <td>Elite Consulting</td>\n",
       "      <td>75950.0</td>\n",
       "      <td>Taguig</td>\n",
       "      <td>RevenueVue Dashboard</td>\n",
       "      <td>179200</td>\n",
       "    </tr>\n",
       "    <tr>\n",
       "      <th>1</th>\n",
       "      <td>29</td>\n",
       "      <td>19</td>\n",
       "      <td>15.0</td>\n",
       "      <td>2024-07-09</td>\n",
       "      <td>97930.99</td>\n",
       "      <td>1468964.85</td>\n",
       "      <td>14.200069</td>\n",
       "      <td>Sky Industries</td>\n",
       "      <td>61952.0</td>\n",
       "      <td>Makati</td>\n",
       "      <td>EcoNomix Modeler</td>\n",
       "      <td>95200</td>\n",
       "    </tr>\n",
       "    <tr>\n",
       "      <th>2</th>\n",
       "      <td>28</td>\n",
       "      <td>18</td>\n",
       "      <td>7.0</td>\n",
       "      <td>2024-04-13</td>\n",
       "      <td>126095.55</td>\n",
       "      <td>882668.85</td>\n",
       "      <td>13.690707</td>\n",
       "      <td>Global Holdings</td>\n",
       "      <td>61115.0</td>\n",
       "      <td>Taguig</td>\n",
       "      <td>DashSync Analytics Hub</td>\n",
       "      <td>134400</td>\n",
       "    </tr>\n",
       "    <tr>\n",
       "      <th>3</th>\n",
       "      <td>85</td>\n",
       "      <td>12</td>\n",
       "      <td>10.0</td>\n",
       "      <td>2023-09-06</td>\n",
       "      <td>83822.46</td>\n",
       "      <td>838224.60</td>\n",
       "      <td>13.639043</td>\n",
       "      <td>Green Ventures</td>\n",
       "      <td>113470.0</td>\n",
       "      <td>Cebu</td>\n",
       "      <td>BudgetMaster Pro</td>\n",
       "      <td>84000</td>\n",
       "    </tr>\n",
       "    <tr>\n",
       "      <th>4</th>\n",
       "      <td>47</td>\n",
       "      <td>3</td>\n",
       "      <td>7.0</td>\n",
       "      <td>2021-07-06</td>\n",
       "      <td>99575.61</td>\n",
       "      <td>697029.27</td>\n",
       "      <td>13.454584</td>\n",
       "      <td>Green Industries</td>\n",
       "      <td>31130.0</td>\n",
       "      <td>Mandaluyong</td>\n",
       "      <td>TrendWise Forecaster</td>\n",
       "      <td>100800</td>\n",
       "    </tr>\n",
       "  </tbody>\n",
       "</table>\n",
       "</div>"
      ],
      "text/plain": [
       "   Company_ID  Product_ID  Quantity Transaction_Date  Product_Price_x  \\\n",
       "0          88           6       6.0       2024-03-26        194379.15   \n",
       "1          29          19      15.0       2024-07-09         97930.99   \n",
       "2          28          18       7.0       2024-04-13        126095.55   \n",
       "3          85          12      10.0       2023-09-06         83822.46   \n",
       "4          47           3       7.0       2021-07-06         99575.61   \n",
       "\n",
       "   Total_Cost  Log_Total_Cost      Company_Name  Company_Profit         City  \\\n",
       "0  1166274.90       13.969326  Elite Consulting         75950.0       Taguig   \n",
       "1  1468964.85       14.200069    Sky Industries         61952.0       Makati   \n",
       "2   882668.85       13.690707   Global Holdings         61115.0       Taguig   \n",
       "3   838224.60       13.639043    Green Ventures        113470.0         Cebu   \n",
       "4   697029.27       13.454584  Green Industries         31130.0  Mandaluyong   \n",
       "\n",
       "             Product_Name  Product_Price_y  \n",
       "0    RevenueVue Dashboard           179200  \n",
       "1        EcoNomix Modeler            95200  \n",
       "2  DashSync Analytics Hub           134400  \n",
       "3        BudgetMaster Pro            84000  \n",
       "4    TrendWise Forecaster           100800  "
      ]
     },
     "execution_count": 145,
     "metadata": {},
     "output_type": "execute_result"
    }
   ],
   "source": [
    "# Merge transactions with customers on Company_ID\n",
    "merged_df = transactions_df.merge(customers_df, on=\"Company_ID\", how=\"left\")\n",
    "\n",
    "# Merge the result with products on Product_ID\n",
    "merged_df = merged_df.merge(products_df, on=\"Product_ID\", how=\"left\")\n",
    "\n",
    "# Display the first few rows of the merged dataset\n",
    "merged_df.head()"
   ]
  },
  {
   "cell_type": "code",
   "execution_count": 147,
   "id": "c57c9807-a9f1-473a-b5b3-b3c01d476b12",
   "metadata": {},
   "outputs": [
    {
     "data": {
      "text/html": [
       "<div>\n",
       "<style scoped>\n",
       "    .dataframe tbody tr th:only-of-type {\n",
       "        vertical-align: middle;\n",
       "    }\n",
       "\n",
       "    .dataframe tbody tr th {\n",
       "        vertical-align: top;\n",
       "    }\n",
       "\n",
       "    .dataframe thead th {\n",
       "        text-align: right;\n",
       "    }\n",
       "</style>\n",
       "<table border=\"1\" class=\"dataframe\">\n",
       "  <thead>\n",
       "    <tr style=\"text-align: right;\">\n",
       "      <th></th>\n",
       "      <th>Company_ID</th>\n",
       "      <th>Product_ID</th>\n",
       "      <th>Quantity</th>\n",
       "      <th>Transaction_Date</th>\n",
       "      <th>Product_Price_x</th>\n",
       "      <th>Total_Cost</th>\n",
       "      <th>Log_Total_Cost</th>\n",
       "      <th>Company_Name</th>\n",
       "      <th>Company_Profit</th>\n",
       "      <th>City</th>\n",
       "      <th>Product_Name</th>\n",
       "      <th>Product_Price_y</th>\n",
       "    </tr>\n",
       "  </thead>\n",
       "  <tbody>\n",
       "    <tr>\n",
       "      <th>8861</th>\n",
       "      <td>65</td>\n",
       "      <td>6</td>\n",
       "      <td>10.0</td>\n",
       "      <td>2022-06-13</td>\n",
       "      <td>179229.665</td>\n",
       "      <td>1792296.65</td>\n",
       "      <td>14.399009</td>\n",
       "      <td>Tech Associates</td>\n",
       "      <td>51705.0</td>\n",
       "      <td>Parañaque</td>\n",
       "      <td>RevenueVue Dashboard</td>\n",
       "      <td>179200</td>\n",
       "    </tr>\n",
       "  </tbody>\n",
       "</table>\n",
       "</div>"
      ],
      "text/plain": [
       "      Company_ID  Product_ID  Quantity Transaction_Date  Product_Price_x  \\\n",
       "8861          65           6      10.0       2022-06-13       179229.665   \n",
       "\n",
       "      Total_Cost  Log_Total_Cost     Company_Name  Company_Profit       City  \\\n",
       "8861  1792296.65       14.399009  Tech Associates         51705.0  Parañaque   \n",
       "\n",
       "              Product_Name  Product_Price_y  \n",
       "8861  RevenueVue Dashboard           179200  "
      ]
     },
     "execution_count": 147,
     "metadata": {},
     "output_type": "execute_result"
    }
   ],
   "source": [
    "# Identifying duplicate rows\n",
    "duplicates = merged_df[merged_df.duplicated()]\n",
    "\n",
    "# Displaying duplicate rows\n",
    "duplicates"
   ]
  },
  {
   "cell_type": "code",
   "execution_count": 149,
   "id": "f61ac5b6-c73b-44fe-a0e8-d8628a412ccc",
   "metadata": {},
   "outputs": [
    {
     "data": {
      "text/plain": [
       "0"
      ]
     },
     "execution_count": 149,
     "metadata": {},
     "output_type": "execute_result"
    }
   ],
   "source": [
    "# Remove duplicate entries, keeping only the first occurrence\n",
    "merged_df = merged_df.drop_duplicates()\n",
    "\n",
    "# Verify if duplicates are removed\n",
    "duplicate_count_after = merged_df.duplicated().sum()\n",
    "duplicate_count_after"
   ]
  },
  {
   "cell_type": "code",
   "execution_count": 151,
   "id": "963b49cf-59ea-499a-add5-13f0957cee1d",
   "metadata": {},
   "outputs": [
    {
     "name": "stdout",
     "output_type": "stream",
     "text": [
      "Converted Transaction_Date to datetime format.\n",
      "\n",
      "0   2024-03-26\n",
      "1   2024-07-09\n",
      "2   2024-04-13\n",
      "3   2023-09-06\n",
      "4   2021-07-06\n",
      "Name: Transaction_Date, dtype: datetime64[ns]\n"
     ]
    }
   ],
   "source": [
    "# Convert Transaction_Date to datetime and display result\n",
    "df[\"Transaction_Date\"] = pd.to_datetime(df[\"Transaction_Date\"])\n",
    "print(\"Converted Transaction_Date to datetime format.\\n\")\n",
    "print(df[\"Transaction_Date\"].head())"
   ]
  },
  {
   "cell_type": "code",
   "execution_count": 221,
   "id": "6b465e01-8a1e-446b-af02-d3760ed4ab3e",
   "metadata": {},
   "outputs": [
    {
     "name": "stdout",
     "output_type": "stream",
     "text": [
      "Creating Purchased target variable based on Log_Total_Cost\n",
      "   Log_Total_Cost  Purchased\n",
      "0       13.969326          0\n",
      "1       14.200069          1\n",
      "2       13.690707          0\n",
      "3       13.639043          0\n",
      "4       13.454584          0\n"
     ]
    }
   ],
   "source": [
    "# Create target variable Purchased based on Log_Total_Cost\n",
    "print(\"Creating Purchased target variable based on Log_Total_Cost\")\n",
    "df[\"Log_Total_Cost\"] = np.log1p(df[\"Total_Cost\"])  # Log transform to handle skewness\n",
    "threshold = df[\"Log_Total_Cost\"].quantile(0.50)  # Median threshold for classification\n",
    "df[\"Purchased\"] = (df[\"Log_Total_Cost\"] > threshold).astype(int)\n",
    "print(df[[\"Log_Total_Cost\", \"Purchased\"]].head())"
   ]
  },
  {
   "cell_type": "code",
   "execution_count": 160,
   "id": "544e52eb-cf03-4b1d-b288-ecf29933fab1",
   "metadata": {},
   "outputs": [
    {
     "name": "stdout",
     "output_type": "stream",
     "text": [
      "\n",
      "Extracted temporal features: Year, Month, Day.\n",
      "\n",
      "  Transaction_Date  Year  Month  Day\n",
      "0       2024-03-26  2024      3   26\n",
      "1       2024-07-09  2024      7    9\n",
      "2       2024-04-13  2024      4   13\n",
      "3       2023-09-06  2023      9    6\n",
      "4       2021-07-06  2021      7    6\n"
     ]
    }
   ],
   "source": [
    "# Extract temporal features and display result\n",
    "df[\"Year\"] = df[\"Transaction_Date\"].dt.year\n",
    "df[\"Month\"] = df[\"Transaction_Date\"].dt.month\n",
    "df[\"Day\"] = df[\"Transaction_Date\"].dt.day\n",
    "print(\"\\nExtracted temporal features: Year, Month, Day.\\n\")\n",
    "print(df[[\"Transaction_Date\", \"Year\", \"Month\", \"Day\"]].head())"
   ]
  },
  {
   "cell_type": "code",
   "execution_count": 155,
   "id": "3fa3196a-7796-44d6-bc3a-fe71eaa20d00",
   "metadata": {},
   "outputs": [
    {
     "name": "stdout",
     "output_type": "stream",
     "text": [
      "\n",
      "Calculated Recency (days since last purchase).\n",
      "\n",
      "  Transaction_Date  Recency\n",
      "0       2024-03-26      259\n",
      "1       2024-07-09      154\n",
      "2       2024-04-13      241\n",
      "3       2023-09-06      461\n",
      "4       2021-07-06     1253\n"
     ]
    }
   ],
   "source": [
    "# Calculate Recency (days since last purchase) and display result\n",
    "df[\"Recency\"] = (df[\"Transaction_Date\"].max() - df[\"Transaction_Date\"]).dt.days\n",
    "print(\"\\nCalculated Recency (days since last purchase).\\n\")\n",
    "print(df[[\"Transaction_Date\", \"Recency\"]].head())"
   ]
  },
  {
   "cell_type": "code",
   "execution_count": 213,
   "id": "17aabf80-2e06-41a3-aefb-04fdd92d62b8",
   "metadata": {},
   "outputs": [
    {
     "data": {
      "image/png": "[encoded data removed]",
      "text/plain": [
       "<Figure size 1200x600 with 1 Axes>"
      ]
     },
     "metadata": {},
     "output_type": "display_data"
    }
   ],
   "source": [
    "# Exploratory Data Analysis (EDA)\n",
    "plt.figure(figsize=(12, 6))\n",
    "sns.histplot(df[\"Total_Cost\"], bins=50, kde=True)\n",
    "plt.title(\"Distribution of Total Cost\")\n",
    "plt.xlabel(\"Total Cost\")\n",
    "plt.ylabel(\"Frequency\")\n",
    "plt.show()"
   ]
  },
  {
   "cell_type": "code",
   "execution_count": 185,
   "id": "46dd64d1-0492-45fd-bf6f-b060e9784bf6",
   "metadata": {},
   "outputs": [
    {
     "data": {
      "image/png": "[encoded data removed]",
      "text/plain": [
       "<Figure size 1200x600 with 1 Axes>"
      ]
     },
     "metadata": {},
     "output_type": "display_data"
    }
   ],
   "source": [
    "plt.figure(figsize=(12, 6))\n",
    "sns.boxplot(x=df[\"Purchased\"], y=df[\"Total_Cost\"])\n",
    "plt.title(\"Total Cost by Purchase Status\")\n",
    "plt.xlabel(\"Purchased\")\n",
    "plt.ylabel(\"Total Cost\")\n",
    "plt.show()"
   ]
  },
  {
   "cell_type": "code",
   "execution_count": 187,
   "id": "5e4fdc7f-7298-453e-aaac-8bdd52c8f993",
   "metadata": {},
   "outputs": [
    {
     "data": {
      "image/png": "[encoded data removed]",
      "text/plain": [
       "<Figure size 1200x600 with 1 Axes>"
      ]
     },
     "metadata": {},
     "output_type": "display_data"
    }
   ],
   "source": [
    "plt.figure(figsize=(12, 6))\n",
    "sns.histplot(df[\"Recency\"], bins=50, kde=True)\n",
    "plt.title(\"Distribution of Recency\")\n",
    "plt.xlabel(\"Days Since Last Purchase\")\n",
    "plt.ylabel(\"Frequency\")\n",
    "plt.show()"
   ]
  },
  {
   "cell_type": "code",
   "execution_count": 195,
   "id": "262ca87d-a0f1-448e-beb4-40e40b3f7b6f",
   "metadata": {},
   "outputs": [
    {
     "name": "stdout",
     "output_type": "stream",
     "text": [
      "Aggregating customer transaction features...\n",
      "   Company_ID  Total_Purchases   Total_Spend     Avg_Spend  \\\n",
      "0           1               36  8.414649e+07  1.185162e+06   \n",
      "1           2               43  9.999352e+07  1.298617e+06   \n",
      "2           3               39  1.090833e+08  1.160461e+06   \n",
      "3           4               39  1.208694e+08  1.246077e+06   \n",
      "4           5               43  1.093076e+08  1.214529e+06   \n",
      "\n",
      "   Purchase_Frequency  Avg_Quantity  Avg_Product_Price  Last_Purchase  \\\n",
      "0            0.507042      8.957746      137437.510282             50   \n",
      "1            0.558442      9.311688      143101.146234             66   \n",
      "2            0.414894      9.090426      124160.105213              6   \n",
      "3            0.402062      8.381443      144577.579021             91   \n",
      "4            0.477778      9.094444      132703.857111             46   \n",
      "\n",
      "   First_Purchase  Purchase_Recency_Avg  \n",
      "0            1612            707.690141  \n",
      "1            1487            824.155844  \n",
      "2            1487            712.372340  \n",
      "3            1503            791.164948  \n",
      "4            1704            723.877778  \n"
     ]
    }
   ],
   "source": [
    "# Aggregate Customer-Level Features\n",
    "print(\"Aggregating customer transaction features...\")\n",
    "detailed_customer_features = df.groupby(\"Company_ID\").agg(\n",
    "    Total_Purchases=(\"Purchased\", \"sum\"),\n",
    "    Total_Spend=(\"Total_Cost\", \"sum\"),\n",
    "    Avg_Spend=(\"Total_Cost\", \"mean\"),\n",
    "    Purchase_Frequency=(\"Purchased\", \"mean\"),\n",
    "    Avg_Quantity=(\"Quantity\", \"mean\"),\n",
    "    Avg_Product_Price=(\"Product_Price\", \"mean\"),\n",
    "    Last_Purchase=(\"Recency\", \"min\"),\n",
    "    First_Purchase=(\"Recency\", \"max\"),\n",
    "    Purchase_Recency_Avg=(\"Recency\", \"mean\")\n",
    ").fillna(0)\n",
    "detailed_customer_features.reset_index(inplace=True)\n",
    "print(detailed_customer_features.head())"
   ]
  },
  {
   "cell_type": "code",
   "execution_count": 197,
   "id": "f713a4d0-8e50-423c-99f8-ab506af36445",
   "metadata": {},
   "outputs": [
    {
     "name": "stdout",
     "output_type": "stream",
     "text": [
      "Modifying non-purchasing customer identification...\n",
      "    Total_Spend  Purchased\n",
      "0  8.414649e+07          0\n",
      "1  9.999352e+07          1\n",
      "2  1.090833e+08          1\n",
      "3  1.208694e+08          1\n",
      "4  1.093076e+08          1\n"
     ]
    }
   ],
   "source": [
    "# Modify Non-Purchasing Customer Identification\n",
    "print(\"Modifying non-purchasing customer identification...\")\n",
    "thresh_cost = detailed_customer_features[\"Total_Spend\"].quantile(0.10)  # Bottom 10% as non-purchasers\n",
    "detailed_customer_features[\"Purchased\"] = (detailed_customer_features[\"Total_Spend\"] > thresh_cost).astype(int)\n",
    "print(detailed_customer_features[[\"Total_Spend\", \"Purchased\"]].head())"
   ]
  },
  {
   "cell_type": "code",
   "execution_count": 199,
   "id": "6e4bea3e-7008-464c-aae4-d199fd516f7e",
   "metadata": {},
   "outputs": [
    {
     "name": "stdout",
     "output_type": "stream",
     "text": [
      "Checking Final Balanced Dataset...\n",
      "Purchased\n",
      "1    0.9\n",
      "0    0.1\n",
      "Name: proportion, dtype: float64\n"
     ]
    }
   ],
   "source": [
    "# Check Final Balanced Dataset\n",
    "print(\"Checking Final Balanced Dataset...\")\n",
    "print(detailed_customer_features[\"Purchased\"].value_counts(normalize=True))"
   ]
  },
  {
   "cell_type": "code",
   "execution_count": 201,
   "id": "b3107ed0-992a-4cdf-b12f-511930dc3a22",
   "metadata": {},
   "outputs": [
    {
     "name": "stdout",
     "output_type": "stream",
     "text": [
      "Training Decision Tree and SVM Models with Cross-Validation...\n"
     ]
    }
   ],
   "source": [
    "# Train Decision Tree and SVM Models with Cross-Validation\n",
    "print(\"Training Decision Tree and SVM Models with Cross-Validation...\")\n",
    "X = detailed_customer_features.drop(columns=[\"Company_ID\", \"Total_Purchases\", \"Purchased\"])\n",
    "y = detailed_customer_features[\"Purchased\"]\n",
    "\n",
    "scaler = StandardScaler()\n",
    "X_scaled = scaler.fit_transform(X)"
   ]
  },
  {
   "cell_type": "code",
   "execution_count": 203,
   "id": "b0694b4e-0d66-46de-ba19-65c4cbbf6658",
   "metadata": {},
   "outputs": [
    {
     "name": "stdout",
     "output_type": "stream",
     "text": [
      "Training Decision Tree Model...\n"
     ]
    },
    {
     "data": {
      "text/html": [
       "<style>#sk-container-id-3 {\n",
       "  /* Definition of color scheme common for light and dark mode */\n",
       "  --sklearn-color-text: black;\n",
       "  --sklearn-color-line: gray;\n",
       "  /* Definition of color scheme for unfitted estimators */\n",
       "  --sklearn-color-unfitted-level-0: #fff5e6;\n",
       "  --sklearn-color-unfitted-level-1: #f6e4d2;\n",
       "  --sklearn-color-unfitted-level-2: #ffe0b3;\n",
       "  --sklearn-color-unfitted-level-3: chocolate;\n",
       "  /* Definition of color scheme for fitted estimators */\n",
       "  --sklearn-color-fitted-level-0: #f0f8ff;\n",
       "  --sklearn-color-fitted-level-1: #d4ebff;\n",
       "  --sklearn-color-fitted-level-2: #b3dbfd;\n",
       "  --sklearn-color-fitted-level-3: cornflowerblue;\n",
       "\n",
       "  /* Specific color for light theme */\n",
       "  --sklearn-color-text-on-default-background: var(--sg-text-color, var(--theme-code-foreground, var(--jp-content-font-color1, black)));\n",
       "  --sklearn-color-background: var(--sg-background-color, var(--theme-background, var(--jp-layout-color0, white)));\n",
       "  --sklearn-color-border-box: var(--sg-text-color, var(--theme-code-foreground, var(--jp-content-font-color1, black)));\n",
       "  --sklearn-color-icon: #696969;\n",
       "\n",
       "  @media (prefers-color-scheme: dark) {\n",
       "    /* Redefinition of color scheme for dark theme */\n",
       "    --sklearn-color-text-on-default-background: var(--sg-text-color, var(--theme-code-foreground, var(--jp-content-font-color1, white)));\n",
       "    --sklearn-color-background: var(--sg-background-color, var(--theme-background, var(--jp-layout-color0, #111)));\n",
       "    --sklearn-color-border-box: var(--sg-text-color, var(--theme-code-foreground, var(--jp-content-font-color1, white)));\n",
       "    --sklearn-color-icon: #878787;\n",
       "  }\n",
       "}\n",
       "\n",
       "#sk-container-id-3 {\n",
       "  color: var(--sklearn-color-text);\n",
       "}\n",
       "\n",
       "#sk-container-id-3 pre {\n",
       "  padding: 0;\n",
       "}\n",
       "\n",
       "#sk-container-id-3 input.sk-hidden--visually {\n",
       "  border: 0;\n",
       "  clip: rect(1px 1px 1px 1px);\n",
       "  clip: rect(1px, 1px, 1px, 1px);\n",
       "  height: 1px;\n",
       "  margin: -1px;\n",
       "  overflow: hidden;\n",
       "  padding: 0;\n",
       "  position: absolute;\n",
       "  width: 1px;\n",
       "}\n",
       "\n",
       "#sk-container-id-3 div.sk-dashed-wrapped {\n",
       "  border: 1px dashed var(--sklearn-color-line);\n",
       "  margin: 0 0.4em 0.5em 0.4em;\n",
       "  box-sizing: border-box;\n",
       "  padding-bottom: 0.4em;\n",
       "  background-color: var(--sklearn-color-background);\n",
       "}\n",
       "\n",
       "#sk-container-id-3 div.sk-container {\n",
       "  /* jupyter's `normalize.less` sets `[hidden] { display: none; }`\n",
       "     but bootstrap.min.css set `[hidden] { display: none !important; }`\n",
       "     so we also need the `!important` here to be able to override the\n",
       "     default hidden behavior on the sphinx rendered scikit-learn.org.\n",
       "     See: https://github.com/scikit-learn/scikit-learn/issues/21755 */\n",
       "  display: inline-block !important;\n",
       "  position: relative;\n",
       "}\n",
       "\n",
       "#sk-container-id-3 div.sk-text-repr-fallback {\n",
       "  display: none;\n",
       "}\n",
       "\n",
       "div.sk-parallel-item,\n",
       "div.sk-serial,\n",
       "div.sk-item {\n",
       "  /* draw centered vertical line to link estimators */\n",
       "  background-image: linear-gradient(var(--sklearn-color-text-on-default-background), var(--sklearn-color-text-on-default-background));\n",
       "  background-size: 2px 100%;\n",
       "  background-repeat: no-repeat;\n",
       "  background-position: center center;\n",
       "}\n",
       "\n",
       "/* Parallel-specific style estimator block */\n",
       "\n",
       "#sk-container-id-3 div.sk-parallel-item::after {\n",
       "  content: \"\";\n",
       "  width: 100%;\n",
       "  border-bottom: 2px solid var(--sklearn-color-text-on-default-background);\n",
       "  flex-grow: 1;\n",
       "}\n",
       "\n",
       "#sk-container-id-3 div.sk-parallel {\n",
       "  display: flex;\n",
       "  align-items: stretch;\n",
       "  justify-content: center;\n",
       "  background-color: var(--sklearn-color-background);\n",
       "  position: relative;\n",
       "}\n",
       "\n",
       "#sk-container-id-3 div.sk-parallel-item {\n",
       "  display: flex;\n",
       "  flex-direction: column;\n",
       "}\n",
       "\n",
       "#sk-container-id-3 div.sk-parallel-item:first-child::after {\n",
       "  align-self: flex-end;\n",
       "  width: 50%;\n",
       "}\n",
       "\n",
       "#sk-container-id-3 div.sk-parallel-item:last-child::after {\n",
       "  align-self: flex-start;\n",
       "  width: 50%;\n",
       "}\n",
       "\n",
       "#sk-container-id-3 div.sk-parallel-item:only-child::after {\n",
       "  width: 0;\n",
       "}\n",
       "\n",
       "/* Serial-specific style estimator block */\n",
       "\n",
       "#sk-container-id-3 div.sk-serial {\n",
       "  display: flex;\n",
       "  flex-direction: column;\n",
       "  align-items: center;\n",
       "  background-color: var(--sklearn-color-background);\n",
       "  padding-right: 1em;\n",
       "  padding-left: 1em;\n",
       "}\n",
       "\n",
       "\n",
       "/* Toggleable style: style used for estimator/Pipeline/ColumnTransformer box that is\n",
       "clickable and can be expanded/collapsed.\n",
       "- Pipeline and ColumnTransformer use this feature and define the default style\n",
       "- Estimators will overwrite some part of the style using the `sk-estimator` class\n",
       "*/\n",
       "\n",
       "/* Pipeline and ColumnTransformer style (default) */\n",
       "\n",
       "#sk-container-id-3 div.sk-toggleable {\n",
       "  /* Default theme specific background. It is overwritten whether we have a\n",
       "  specific estimator or a Pipeline/ColumnTransformer */\n",
       "  background-color: var(--sklearn-color-background);\n",
       "}\n",
       "\n",
       "/* Toggleable label */\n",
       "#sk-container-id-3 label.sk-toggleable__label {\n",
       "  cursor: pointer;\n",
       "  display: block;\n",
       "  width: 100%;\n",
       "  margin-bottom: 0;\n",
       "  padding: 0.5em;\n",
       "  box-sizing: border-box;\n",
       "  text-align: center;\n",
       "}\n",
       "\n",
       "#sk-container-id-3 label.sk-toggleable__label-arrow:before {\n",
       "  /* Arrow on the left of the label */\n",
       "  content: \"▸\";\n",
       "  float: left;\n",
       "  margin-right: 0.25em;\n",
       "  color: var(--sklearn-color-icon);\n",
       "}\n",
       "\n",
       "#sk-container-id-3 label.sk-toggleable__label-arrow:hover:before {\n",
       "  color: var(--sklearn-color-text);\n",
       "}\n",
       "\n",
       "/* Toggleable content - dropdown */\n",
       "\n",
       "#sk-container-id-3 div.sk-toggleable__content {\n",
       "  max-height: 0;\n",
       "  max-width: 0;\n",
       "  overflow: hidden;\n",
       "  text-align: left;\n",
       "  /* unfitted */\n",
       "  background-color: var(--sklearn-color-unfitted-level-0);\n",
       "}\n",
       "\n",
       "#sk-container-id-3 div.sk-toggleable__content.fitted {\n",
       "  /* fitted */\n",
       "  background-color: var(--sklearn-color-fitted-level-0);\n",
       "}\n",
       "\n",
       "#sk-container-id-3 div.sk-toggleable__content pre {\n",
       "  margin: 0.2em;\n",
       "  border-radius: 0.25em;\n",
       "  color: var(--sklearn-color-text);\n",
       "  /* unfitted */\n",
       "  background-color: var(--sklearn-color-unfitted-level-0);\n",
       "}\n",
       "\n",
       "#sk-container-id-3 div.sk-toggleable__content.fitted pre {\n",
       "  /* unfitted */\n",
       "  background-color: var(--sklearn-color-fitted-level-0);\n",
       "}\n",
       "\n",
       "#sk-container-id-3 input.sk-toggleable__control:checked~div.sk-toggleable__content {\n",
       "  /* Expand drop-down */\n",
       "  max-height: 200px;\n",
       "  max-width: 100%;\n",
       "  overflow: auto;\n",
       "}\n",
       "\n",
       "#sk-container-id-3 input.sk-toggleable__control:checked~label.sk-toggleable__label-arrow:before {\n",
       "  content: \"▾\";\n",
       "}\n",
       "\n",
       "/* Pipeline/ColumnTransformer-specific style */\n",
       "\n",
       "#sk-container-id-3 div.sk-label input.sk-toggleable__control:checked~label.sk-toggleable__label {\n",
       "  color: var(--sklearn-color-text);\n",
       "  background-color: var(--sklearn-color-unfitted-level-2);\n",
       "}\n",
       "\n",
       "#sk-container-id-3 div.sk-label.fitted input.sk-toggleable__control:checked~label.sk-toggleable__label {\n",
       "  background-color: var(--sklearn-color-fitted-level-2);\n",
       "}\n",
       "\n",
       "/* Estimator-specific style */\n",
       "\n",
       "/* Colorize estimator box */\n",
       "#sk-container-id-3 div.sk-estimator input.sk-toggleable__control:checked~label.sk-toggleable__label {\n",
       "  /* unfitted */\n",
       "  background-color: var(--sklearn-color-unfitted-level-2);\n",
       "}\n",
       "\n",
       "#sk-container-id-3 div.sk-estimator.fitted input.sk-toggleable__control:checked~label.sk-toggleable__label {\n",
       "  /* fitted */\n",
       "  background-color: var(--sklearn-color-fitted-level-2);\n",
       "}\n",
       "\n",
       "#sk-container-id-3 div.sk-label label.sk-toggleable__label,\n",
       "#sk-container-id-3 div.sk-label label {\n",
       "  /* The background is the default theme color */\n",
       "  color: var(--sklearn-color-text-on-default-background);\n",
       "}\n",
       "\n",
       "/* On hover, darken the color of the background */\n",
       "#sk-container-id-3 div.sk-label:hover label.sk-toggleable__label {\n",
       "  color: var(--sklearn-color-text);\n",
       "  background-color: var(--sklearn-color-unfitted-level-2);\n",
       "}\n",
       "\n",
       "/* Label box, darken color on hover, fitted */\n",
       "#sk-container-id-3 div.sk-label.fitted:hover label.sk-toggleable__label.fitted {\n",
       "  color: var(--sklearn-color-text);\n",
       "  background-color: var(--sklearn-color-fitted-level-2);\n",
       "}\n",
       "\n",
       "/* Estimator label */\n",
       "\n",
       "#sk-container-id-3 div.sk-label label {\n",
       "  font-family: monospace;\n",
       "  font-weight: bold;\n",
       "  display: inline-block;\n",
       "  line-height: 1.2em;\n",
       "}\n",
       "\n",
       "#sk-container-id-3 div.sk-label-container {\n",
       "  text-align: center;\n",
       "}\n",
       "\n",
       "/* Estimator-specific */\n",
       "#sk-container-id-3 div.sk-estimator {\n",
       "  font-family: monospace;\n",
       "  border: 1px dotted var(--sklearn-color-border-box);\n",
       "  border-radius: 0.25em;\n",
       "  box-sizing: border-box;\n",
       "  margin-bottom: 0.5em;\n",
       "  /* unfitted */\n",
       "  background-color: var(--sklearn-color-unfitted-level-0);\n",
       "}\n",
       "\n",
       "#sk-container-id-3 div.sk-estimator.fitted {\n",
       "  /* fitted */\n",
       "  background-color: var(--sklearn-color-fitted-level-0);\n",
       "}\n",
       "\n",
       "/* on hover */\n",
       "#sk-container-id-3 div.sk-estimator:hover {\n",
       "  /* unfitted */\n",
       "  background-color: var(--sklearn-color-unfitted-level-2);\n",
       "}\n",
       "\n",
       "#sk-container-id-3 div.sk-estimator.fitted:hover {\n",
       "  /* fitted */\n",
       "  background-color: var(--sklearn-color-fitted-level-2);\n",
       "}\n",
       "\n",
       "/* Specification for estimator info (e.g. \"i\" and \"?\") */\n",
       "\n",
       "/* Common style for \"i\" and \"?\" */\n",
       "\n",
       ".sk-estimator-doc-link,\n",
       "a:link.sk-estimator-doc-link,\n",
       "a:visited.sk-estimator-doc-link {\n",
       "  float: right;\n",
       "  font-size: smaller;\n",
       "  line-height: 1em;\n",
       "  font-family: monospace;\n",
       "  background-color: var(--sklearn-color-background);\n",
       "  border-radius: 1em;\n",
       "  height: 1em;\n",
       "  width: 1em;\n",
       "  text-decoration: none !important;\n",
       "  margin-left: 1ex;\n",
       "  /* unfitted */\n",
       "  border: var(--sklearn-color-unfitted-level-1) 1pt solid;\n",
       "  color: var(--sklearn-color-unfitted-level-1);\n",
       "}\n",
       "\n",
       ".sk-estimator-doc-link.fitted,\n",
       "a:link.sk-estimator-doc-link.fitted,\n",
       "a:visited.sk-estimator-doc-link.fitted {\n",
       "  /* fitted */\n",
       "  border: var(--sklearn-color-fitted-level-1) 1pt solid;\n",
       "  color: var(--sklearn-color-fitted-level-1);\n",
       "}\n",
       "\n",
       "/* On hover */\n",
       "div.sk-estimator:hover .sk-estimator-doc-link:hover,\n",
       ".sk-estimator-doc-link:hover,\n",
       "div.sk-label-container:hover .sk-estimator-doc-link:hover,\n",
       ".sk-estimator-doc-link:hover {\n",
       "  /* unfitted */\n",
       "  background-color: var(--sklearn-color-unfitted-level-3);\n",
       "  color: var(--sklearn-color-background);\n",
       "  text-decoration: none;\n",
       "}\n",
       "\n",
       "div.sk-estimator.fitted:hover .sk-estimator-doc-link.fitted:hover,\n",
       ".sk-estimator-doc-link.fitted:hover,\n",
       "div.sk-label-container:hover .sk-estimator-doc-link.fitted:hover,\n",
       ".sk-estimator-doc-link.fitted:hover {\n",
       "  /* fitted */\n",
       "  background-color: var(--sklearn-color-fitted-level-3);\n",
       "  color: var(--sklearn-color-background);\n",
       "  text-decoration: none;\n",
       "}\n",
       "\n",
       "/* Span, style for the box shown on hovering the info icon */\n",
       ".sk-estimator-doc-link span {\n",
       "  display: none;\n",
       "  z-index: 9999;\n",
       "  position: relative;\n",
       "  font-weight: normal;\n",
       "  right: .2ex;\n",
       "  padding: .5ex;\n",
       "  margin: .5ex;\n",
       "  width: min-content;\n",
       "  min-width: 20ex;\n",
       "  max-width: 50ex;\n",
       "  color: var(--sklearn-color-text);\n",
       "  box-shadow: 2pt 2pt 4pt #999;\n",
       "  /* unfitted */\n",
       "  background: var(--sklearn-color-unfitted-level-0);\n",
       "  border: .5pt solid var(--sklearn-color-unfitted-level-3);\n",
       "}\n",
       "\n",
       ".sk-estimator-doc-link.fitted span {\n",
       "  /* fitted */\n",
       "  background: var(--sklearn-color-fitted-level-0);\n",
       "  border: var(--sklearn-color-fitted-level-3);\n",
       "}\n",
       "\n",
       ".sk-estimator-doc-link:hover span {\n",
       "  display: block;\n",
       "}\n",
       "\n",
       "/* \"?\"-specific style due to the `<a>` HTML tag */\n",
       "\n",
       "#sk-container-id-3 a.estimator_doc_link {\n",
       "  float: right;\n",
       "  font-size: 1rem;\n",
       "  line-height: 1em;\n",
       "  font-family: monospace;\n",
       "  background-color: var(--sklearn-color-background);\n",
       "  border-radius: 1rem;\n",
       "  height: 1rem;\n",
       "  width: 1rem;\n",
       "  text-decoration: none;\n",
       "  /* unfitted */\n",
       "  color: var(--sklearn-color-unfitted-level-1);\n",
       "  border: var(--sklearn-color-unfitted-level-1) 1pt solid;\n",
       "}\n",
       "\n",
       "#sk-container-id-3 a.estimator_doc_link.fitted {\n",
       "  /* fitted */\n",
       "  border: var(--sklearn-color-fitted-level-1) 1pt solid;\n",
       "  color: var(--sklearn-color-fitted-level-1);\n",
       "}\n",
       "\n",
       "/* On hover */\n",
       "#sk-container-id-3 a.estimator_doc_link:hover {\n",
       "  /* unfitted */\n",
       "  background-color: var(--sklearn-color-unfitted-level-3);\n",
       "  color: var(--sklearn-color-background);\n",
       "  text-decoration: none;\n",
       "}\n",
       "\n",
       "#sk-container-id-3 a.estimator_doc_link.fitted:hover {\n",
       "  /* fitted */\n",
       "  background-color: var(--sklearn-color-fitted-level-3);\n",
       "}\n",
       "</style><div id=\"sk-container-id-3\" class=\"sk-top-container\"><div class=\"sk-text-repr-fallback\"><pre>DecisionTreeClassifier(random_state=42)</pre><b>In a Jupyter environment, please rerun this cell to show the HTML representation or trust the notebook. <br />On GitHub, the HTML representation is unable to render, please try loading this page with nbviewer.org.</b></div><div class=\"sk-container\" hidden><div class=\"sk-item\"><div class=\"sk-estimator fitted sk-toggleable\"><input class=\"sk-toggleable__control sk-hidden--visually\" id=\"sk-estimator-id-3\" type=\"checkbox\" checked><label for=\"sk-estimator-id-3\" class=\"sk-toggleable__label fitted sk-toggleable__label-arrow fitted\">&nbsp;&nbsp;DecisionTreeClassifier<a class=\"sk-estimator-doc-link fitted\" rel=\"noreferrer\" target=\"_blank\" href=\"https://scikit-learn.org/1.5/modules/generated/sklearn.tree.DecisionTreeClassifier.html\">?<span>Documentation for DecisionTreeClassifier</span></a><span class=\"sk-estimator-doc-link fitted\">i<span>Fitted</span></span></label><div class=\"sk-toggleable__content fitted\"><pre>DecisionTreeClassifier(random_state=42)</pre></div> </div></div></div></div>"
      ],
      "text/plain": [
       "DecisionTreeClassifier(random_state=42)"
      ]
     },
     "execution_count": 203,
     "metadata": {},
     "output_type": "execute_result"
    }
   ],
   "source": [
    "# Train Decision Tree Model\n",
    "print(\"Training Decision Tree Model...\")\n",
    "tree_model = DecisionTreeClassifier(random_state=42)\n",
    "tree_model.fit(X_scaled, y)"
   ]
  },
  {
   "cell_type": "code",
   "execution_count": 205,
   "id": "e0de89e9-4d1a-47d2-af52-421b37ae707e",
   "metadata": {},
   "outputs": [
    {
     "name": "stdout",
     "output_type": "stream",
     "text": [
      "Training SVM Model...\n"
     ]
    },
    {
     "data": {
      "text/html": [
       "<style>#sk-container-id-4 {\n",
       "  /* Definition of color scheme common for light and dark mode */\n",
       "  --sklearn-color-text: black;\n",
       "  --sklearn-color-line: gray;\n",
       "  /* Definition of color scheme for unfitted estimators */\n",
       "  --sklearn-color-unfitted-level-0: #fff5e6;\n",
       "  --sklearn-color-unfitted-level-1: #f6e4d2;\n",
       "  --sklearn-color-unfitted-level-2: #ffe0b3;\n",
       "  --sklearn-color-unfitted-level-3: chocolate;\n",
       "  /* Definition of color scheme for fitted estimators */\n",
       "  --sklearn-color-fitted-level-0: #f0f8ff;\n",
       "  --sklearn-color-fitted-level-1: #d4ebff;\n",
       "  --sklearn-color-fitted-level-2: #b3dbfd;\n",
       "  --sklearn-color-fitted-level-3: cornflowerblue;\n",
       "\n",
       "  /* Specific color for light theme */\n",
       "  --sklearn-color-text-on-default-background: var(--sg-text-color, var(--theme-code-foreground, var(--jp-content-font-color1, black)));\n",
       "  --sklearn-color-background: var(--sg-background-color, var(--theme-background, var(--jp-layout-color0, white)));\n",
       "  --sklearn-color-border-box: var(--sg-text-color, var(--theme-code-foreground, var(--jp-content-font-color1, black)));\n",
       "  --sklearn-color-icon: #696969;\n",
       "\n",
       "  @media (prefers-color-scheme: dark) {\n",
       "    /* Redefinition of color scheme for dark theme */\n",
       "    --sklearn-color-text-on-default-background: var(--sg-text-color, var(--theme-code-foreground, var(--jp-content-font-color1, white)));\n",
       "    --sklearn-color-background: var(--sg-background-color, var(--theme-background, var(--jp-layout-color0, #111)));\n",
       "    --sklearn-color-border-box: var(--sg-text-color, var(--theme-code-foreground, var(--jp-content-font-color1, white)));\n",
       "    --sklearn-color-icon: #878787;\n",
       "  }\n",
       "}\n",
       "\n",
       "#sk-container-id-4 {\n",
       "  color: var(--sklearn-color-text);\n",
       "}\n",
       "\n",
       "#sk-container-id-4 pre {\n",
       "  padding: 0;\n",
       "}\n",
       "\n",
       "#sk-container-id-4 input.sk-hidden--visually {\n",
       "  border: 0;\n",
       "  clip: rect(1px 1px 1px 1px);\n",
       "  clip: rect(1px, 1px, 1px, 1px);\n",
       "  height: 1px;\n",
       "  margin: -1px;\n",
       "  overflow: hidden;\n",
       "  padding: 0;\n",
       "  position: absolute;\n",
       "  width: 1px;\n",
       "}\n",
       "\n",
       "#sk-container-id-4 div.sk-dashed-wrapped {\n",
       "  border: 1px dashed var(--sklearn-color-line);\n",
       "  margin: 0 0.4em 0.5em 0.4em;\n",
       "  box-sizing: border-box;\n",
       "  padding-bottom: 0.4em;\n",
       "  background-color: var(--sklearn-color-background);\n",
       "}\n",
       "\n",
       "#sk-container-id-4 div.sk-container {\n",
       "  /* jupyter's `normalize.less` sets `[hidden] { display: none; }`\n",
       "     but bootstrap.min.css set `[hidden] { display: none !important; }`\n",
       "     so we also need the `!important` here to be able to override the\n",
       "     default hidden behavior on the sphinx rendered scikit-learn.org.\n",
       "     See: https://github.com/scikit-learn/scikit-learn/issues/21755 */\n",
       "  display: inline-block !important;\n",
       "  position: relative;\n",
       "}\n",
       "\n",
       "#sk-container-id-4 div.sk-text-repr-fallback {\n",
       "  display: none;\n",
       "}\n",
       "\n",
       "div.sk-parallel-item,\n",
       "div.sk-serial,\n",
       "div.sk-item {\n",
       "  /* draw centered vertical line to link estimators */\n",
       "  background-image: linear-gradient(var(--sklearn-color-text-on-default-background), var(--sklearn-color-text-on-default-background));\n",
       "  background-size: 2px 100%;\n",
       "  background-repeat: no-repeat;\n",
       "  background-position: center center;\n",
       "}\n",
       "\n",
       "/* Parallel-specific style estimator block */\n",
       "\n",
       "#sk-container-id-4 div.sk-parallel-item::after {\n",
       "  content: \"\";\n",
       "  width: 100%;\n",
       "  border-bottom: 2px solid var(--sklearn-color-text-on-default-background);\n",
       "  flex-grow: 1;\n",
       "}\n",
       "\n",
       "#sk-container-id-4 div.sk-parallel {\n",
       "  display: flex;\n",
       "  align-items: stretch;\n",
       "  justify-content: center;\n",
       "  background-color: var(--sklearn-color-background);\n",
       "  position: relative;\n",
       "}\n",
       "\n",
       "#sk-container-id-4 div.sk-parallel-item {\n",
       "  display: flex;\n",
       "  flex-direction: column;\n",
       "}\n",
       "\n",
       "#sk-container-id-4 div.sk-parallel-item:first-child::after {\n",
       "  align-self: flex-end;\n",
       "  width: 50%;\n",
       "}\n",
       "\n",
       "#sk-container-id-4 div.sk-parallel-item:last-child::after {\n",
       "  align-self: flex-start;\n",
       "  width: 50%;\n",
       "}\n",
       "\n",
       "#sk-container-id-4 div.sk-parallel-item:only-child::after {\n",
       "  width: 0;\n",
       "}\n",
       "\n",
       "/* Serial-specific style estimator block */\n",
       "\n",
       "#sk-container-id-4 div.sk-serial {\n",
       "  display: flex;\n",
       "  flex-direction: column;\n",
       "  align-items: center;\n",
       "  background-color: var(--sklearn-color-background);\n",
       "  padding-right: 1em;\n",
       "  padding-left: 1em;\n",
       "}\n",
       "\n",
       "\n",
       "/* Toggleable style: style used for estimator/Pipeline/ColumnTransformer box that is\n",
       "clickable and can be expanded/collapsed.\n",
       "- Pipeline and ColumnTransformer use this feature and define the default style\n",
       "- Estimators will overwrite some part of the style using the `sk-estimator` class\n",
       "*/\n",
       "\n",
       "/* Pipeline and ColumnTransformer style (default) */\n",
       "\n",
       "#sk-container-id-4 div.sk-toggleable {\n",
       "  /* Default theme specific background. It is overwritten whether we have a\n",
       "  specific estimator or a Pipeline/ColumnTransformer */\n",
       "  background-color: var(--sklearn-color-background);\n",
       "}\n",
       "\n",
       "/* Toggleable label */\n",
       "#sk-container-id-4 label.sk-toggleable__label {\n",
       "  cursor: pointer;\n",
       "  display: block;\n",
       "  width: 100%;\n",
       "  margin-bottom: 0;\n",
       "  padding: 0.5em;\n",
       "  box-sizing: border-box;\n",
       "  text-align: center;\n",
       "}\n",
       "\n",
       "#sk-container-id-4 label.sk-toggleable__label-arrow:before {\n",
       "  /* Arrow on the left of the label */\n",
       "  content: \"▸\";\n",
       "  float: left;\n",
       "  margin-right: 0.25em;\n",
       "  color: var(--sklearn-color-icon);\n",
       "}\n",
       "\n",
       "#sk-container-id-4 label.sk-toggleable__label-arrow:hover:before {\n",
       "  color: var(--sklearn-color-text);\n",
       "}\n",
       "\n",
       "/* Toggleable content - dropdown */\n",
       "\n",
       "#sk-container-id-4 div.sk-toggleable__content {\n",
       "  max-height: 0;\n",
       "  max-width: 0;\n",
       "  overflow: hidden;\n",
       "  text-align: left;\n",
       "  /* unfitted */\n",
       "  background-color: var(--sklearn-color-unfitted-level-0);\n",
       "}\n",
       "\n",
       "#sk-container-id-4 div.sk-toggleable__content.fitted {\n",
       "  /* fitted */\n",
       "  background-color: var(--sklearn-color-fitted-level-0);\n",
       "}\n",
       "\n",
       "#sk-container-id-4 div.sk-toggleable__content pre {\n",
       "  margin: 0.2em;\n",
       "  border-radius: 0.25em;\n",
       "  color: var(--sklearn-color-text);\n",
       "  /* unfitted */\n",
       "  background-color: var(--sklearn-color-unfitted-level-0);\n",
       "}\n",
       "\n",
       "#sk-container-id-4 div.sk-toggleable__content.fitted pre {\n",
       "  /* unfitted */\n",
       "  background-color: var(--sklearn-color-fitted-level-0);\n",
       "}\n",
       "\n",
       "#sk-container-id-4 input.sk-toggleable__control:checked~div.sk-toggleable__content {\n",
       "  /* Expand drop-down */\n",
       "  max-height: 200px;\n",
       "  max-width: 100%;\n",
       "  overflow: auto;\n",
       "}\n",
       "\n",
       "#sk-container-id-4 input.sk-toggleable__control:checked~label.sk-toggleable__label-arrow:before {\n",
       "  content: \"▾\";\n",
       "}\n",
       "\n",
       "/* Pipeline/ColumnTransformer-specific style */\n",
       "\n",
       "#sk-container-id-4 div.sk-label input.sk-toggleable__control:checked~label.sk-toggleable__label {\n",
       "  color: var(--sklearn-color-text);\n",
       "  background-color: var(--sklearn-color-unfitted-level-2);\n",
       "}\n",
       "\n",
       "#sk-container-id-4 div.sk-label.fitted input.sk-toggleable__control:checked~label.sk-toggleable__label {\n",
       "  background-color: var(--sklearn-color-fitted-level-2);\n",
       "}\n",
       "\n",
       "/* Estimator-specific style */\n",
       "\n",
       "/* Colorize estimator box */\n",
       "#sk-container-id-4 div.sk-estimator input.sk-toggleable__control:checked~label.sk-toggleable__label {\n",
       "  /* unfitted */\n",
       "  background-color: var(--sklearn-color-unfitted-level-2);\n",
       "}\n",
       "\n",
       "#sk-container-id-4 div.sk-estimator.fitted input.sk-toggleable__control:checked~label.sk-toggleable__label {\n",
       "  /* fitted */\n",
       "  background-color: var(--sklearn-color-fitted-level-2);\n",
       "}\n",
       "\n",
       "#sk-container-id-4 div.sk-label label.sk-toggleable__label,\n",
       "#sk-container-id-4 div.sk-label label {\n",
       "  /* The background is the default theme color */\n",
       "  color: var(--sklearn-color-text-on-default-background);\n",
       "}\n",
       "\n",
       "/* On hover, darken the color of the background */\n",
       "#sk-container-id-4 div.sk-label:hover label.sk-toggleable__label {\n",
       "  color: var(--sklearn-color-text);\n",
       "  background-color: var(--sklearn-color-unfitted-level-2);\n",
       "}\n",
       "\n",
       "/* Label box, darken color on hover, fitted */\n",
       "#sk-container-id-4 div.sk-label.fitted:hover label.sk-toggleable__label.fitted {\n",
       "  color: var(--sklearn-color-text);\n",
       "  background-color: var(--sklearn-color-fitted-level-2);\n",
       "}\n",
       "\n",
       "/* Estimator label */\n",
       "\n",
       "#sk-container-id-4 div.sk-label label {\n",
       "  font-family: monospace;\n",
       "  font-weight: bold;\n",
       "  display: inline-block;\n",
       "  line-height: 1.2em;\n",
       "}\n",
       "\n",
       "#sk-container-id-4 div.sk-label-container {\n",
       "  text-align: center;\n",
       "}\n",
       "\n",
       "/* Estimator-specific */\n",
       "#sk-container-id-4 div.sk-estimator {\n",
       "  font-family: monospace;\n",
       "  border: 1px dotted var(--sklearn-color-border-box);\n",
       "  border-radius: 0.25em;\n",
       "  box-sizing: border-box;\n",
       "  margin-bottom: 0.5em;\n",
       "  /* unfitted */\n",
       "  background-color: var(--sklearn-color-unfitted-level-0);\n",
       "}\n",
       "\n",
       "#sk-container-id-4 div.sk-estimator.fitted {\n",
       "  /* fitted */\n",
       "  background-color: var(--sklearn-color-fitted-level-0);\n",
       "}\n",
       "\n",
       "/* on hover */\n",
       "#sk-container-id-4 div.sk-estimator:hover {\n",
       "  /* unfitted */\n",
       "  background-color: var(--sklearn-color-unfitted-level-2);\n",
       "}\n",
       "\n",
       "#sk-container-id-4 div.sk-estimator.fitted:hover {\n",
       "  /* fitted */\n",
       "  background-color: var(--sklearn-color-fitted-level-2);\n",
       "}\n",
       "\n",
       "/* Specification for estimator info (e.g. \"i\" and \"?\") */\n",
       "\n",
       "/* Common style for \"i\" and \"?\" */\n",
       "\n",
       ".sk-estimator-doc-link,\n",
       "a:link.sk-estimator-doc-link,\n",
       "a:visited.sk-estimator-doc-link {\n",
       "  float: right;\n",
       "  font-size: smaller;\n",
       "  line-height: 1em;\n",
       "  font-family: monospace;\n",
       "  background-color: var(--sklearn-color-background);\n",
       "  border-radius: 1em;\n",
       "  height: 1em;\n",
       "  width: 1em;\n",
       "  text-decoration: none !important;\n",
       "  margin-left: 1ex;\n",
       "  /* unfitted */\n",
       "  border: var(--sklearn-color-unfitted-level-1) 1pt solid;\n",
       "  color: var(--sklearn-color-unfitted-level-1);\n",
       "}\n",
       "\n",
       ".sk-estimator-doc-link.fitted,\n",
       "a:link.sk-estimator-doc-link.fitted,\n",
       "a:visited.sk-estimator-doc-link.fitted {\n",
       "  /* fitted */\n",
       "  border: var(--sklearn-color-fitted-level-1) 1pt solid;\n",
       "  color: var(--sklearn-color-fitted-level-1);\n",
       "}\n",
       "\n",
       "/* On hover */\n",
       "div.sk-estimator:hover .sk-estimator-doc-link:hover,\n",
       ".sk-estimator-doc-link:hover,\n",
       "div.sk-label-container:hover .sk-estimator-doc-link:hover,\n",
       ".sk-estimator-doc-link:hover {\n",
       "  /* unfitted */\n",
       "  background-color: var(--sklearn-color-unfitted-level-3);\n",
       "  color: var(--sklearn-color-background);\n",
       "  text-decoration: none;\n",
       "}\n",
       "\n",
       "div.sk-estimator.fitted:hover .sk-estimator-doc-link.fitted:hover,\n",
       ".sk-estimator-doc-link.fitted:hover,\n",
       "div.sk-label-container:hover .sk-estimator-doc-link.fitted:hover,\n",
       ".sk-estimator-doc-link.fitted:hover {\n",
       "  /* fitted */\n",
       "  background-color: var(--sklearn-color-fitted-level-3);\n",
       "  color: var(--sklearn-color-background);\n",
       "  text-decoration: none;\n",
       "}\n",
       "\n",
       "/* Span, style for the box shown on hovering the info icon */\n",
       ".sk-estimator-doc-link span {\n",
       "  display: none;\n",
       "  z-index: 9999;\n",
       "  position: relative;\n",
       "  font-weight: normal;\n",
       "  right: .2ex;\n",
       "  padding: .5ex;\n",
       "  margin: .5ex;\n",
       "  width: min-content;\n",
       "  min-width: 20ex;\n",
       "  max-width: 50ex;\n",
       "  color: var(--sklearn-color-text);\n",
       "  box-shadow: 2pt 2pt 4pt #999;\n",
       "  /* unfitted */\n",
       "  background: var(--sklearn-color-unfitted-level-0);\n",
       "  border: .5pt solid var(--sklearn-color-unfitted-level-3);\n",
       "}\n",
       "\n",
       ".sk-estimator-doc-link.fitted span {\n",
       "  /* fitted */\n",
       "  background: var(--sklearn-color-fitted-level-0);\n",
       "  border: var(--sklearn-color-fitted-level-3);\n",
       "}\n",
       "\n",
       ".sk-estimator-doc-link:hover span {\n",
       "  display: block;\n",
       "}\n",
       "\n",
       "/* \"?\"-specific style due to the `<a>` HTML tag */\n",
       "\n",
       "#sk-container-id-4 a.estimator_doc_link {\n",
       "  float: right;\n",
       "  font-size: 1rem;\n",
       "  line-height: 1em;\n",
       "  font-family: monospace;\n",
       "  background-color: var(--sklearn-color-background);\n",
       "  border-radius: 1rem;\n",
       "  height: 1rem;\n",
       "  width: 1rem;\n",
       "  text-decoration: none;\n",
       "  /* unfitted */\n",
       "  color: var(--sklearn-color-unfitted-level-1);\n",
       "  border: var(--sklearn-color-unfitted-level-1) 1pt solid;\n",
       "}\n",
       "\n",
       "#sk-container-id-4 a.estimator_doc_link.fitted {\n",
       "  /* fitted */\n",
       "  border: var(--sklearn-color-fitted-level-1) 1pt solid;\n",
       "  color: var(--sklearn-color-fitted-level-1);\n",
       "}\n",
       "\n",
       "/* On hover */\n",
       "#sk-container-id-4 a.estimator_doc_link:hover {\n",
       "  /* unfitted */\n",
       "  background-color: var(--sklearn-color-unfitted-level-3);\n",
       "  color: var(--sklearn-color-background);\n",
       "  text-decoration: none;\n",
       "}\n",
       "\n",
       "#sk-container-id-4 a.estimator_doc_link.fitted:hover {\n",
       "  /* fitted */\n",
       "  background-color: var(--sklearn-color-fitted-level-3);\n",
       "}\n",
       "</style><div id=\"sk-container-id-4\" class=\"sk-top-container\"><div class=\"sk-text-repr-fallback\"><pre>SVC(kernel=&#x27;linear&#x27;, probability=True, random_state=42)</pre><b>In a Jupyter environment, please rerun this cell to show the HTML representation or trust the notebook. <br />On GitHub, the HTML representation is unable to render, please try loading this page with nbviewer.org.</b></div><div class=\"sk-container\" hidden><div class=\"sk-item\"><div class=\"sk-estimator fitted sk-toggleable\"><input class=\"sk-toggleable__control sk-hidden--visually\" id=\"sk-estimator-id-4\" type=\"checkbox\" checked><label for=\"sk-estimator-id-4\" class=\"sk-toggleable__label fitted sk-toggleable__label-arrow fitted\">&nbsp;&nbsp;SVC<a class=\"sk-estimator-doc-link fitted\" rel=\"noreferrer\" target=\"_blank\" href=\"https://scikit-learn.org/1.5/modules/generated/sklearn.svm.SVC.html\">?<span>Documentation for SVC</span></a><span class=\"sk-estimator-doc-link fitted\">i<span>Fitted</span></span></label><div class=\"sk-toggleable__content fitted\"><pre>SVC(kernel=&#x27;linear&#x27;, probability=True, random_state=42)</pre></div> </div></div></div></div>"
      ],
      "text/plain": [
       "SVC(kernel='linear', probability=True, random_state=42)"
      ]
     },
     "execution_count": 205,
     "metadata": {},
     "output_type": "execute_result"
    }
   ],
   "source": [
    "# Train SVM Model\n",
    "print(\"Training SVM Model...\")\n",
    "svm_model = SVC(kernel='linear', probability=True, random_state=42)\n",
    "svm_model.fit(X_scaled, y)"
   ]
  },
  {
   "cell_type": "code",
   "execution_count": 207,
   "id": "153251e6-6f43-409c-bc4b-03fdbb78f62f",
   "metadata": {},
   "outputs": [
    {
     "name": "stdout",
     "output_type": "stream",
     "text": [
      "Evaluating Models...\n",
      "Decision Tree - F1 Score: 1.00, ROC-AUC Score: 1.00\n",
      "SVM - F1 Score: 0.99, ROC-AUC Score: 1.00\n",
      "Model is ready for customer prediction\n"
     ]
    }
   ],
   "source": [
    "# Evaluate Models\n",
    "print(\"Evaluating Models...\")\n",
    "y_pred_tree = tree_model.predict(X_scaled)\n",
    "y_pred_svm = svm_model.predict(X_scaled)\n",
    "\n",
    "tree_f1 = f1_score(y, y_pred_tree)\n",
    "tree_roc_auc = roc_auc_score(y, tree_model.predict_proba(X_scaled)[:, 1])\n",
    "\n",
    "svm_f1 = f1_score(y, y_pred_svm)\n",
    "svm_roc_auc = roc_auc_score(y, svm_model.predict_proba(X_scaled)[:, 1])\n",
    "\n",
    "print(f\"Decision Tree - F1 Score: {tree_f1:.2f}, ROC-AUC Score: {tree_roc_auc:.2f}\")\n",
    "print(f\"SVM - F1 Score: {svm_f1:.2f}, ROC-AUC Score: {svm_roc_auc:.2f}\")\n",
    "\n",
    "print(\"Model is ready for customer prediction\")"
   ]
  },
  {
   "cell_type": "code",
   "execution_count": 209,
   "id": "621a6e3a-3424-4e3b-9e52-7b7c22fcd768",
   "metadata": {},
   "outputs": [],
   "source": [
    "# Function to Predict Customer's Purchasing Likelihood\n",
    "def predict_customer_purchase(customer_data):\n",
    "    \"\"\" Predicts the purchasing likelihood for a new customer. \"\"\"\n",
    "    print(\"Scaling new customer data...\")\n",
    "    customer_df = pd.DataFrame([customer_data])\n",
    "    customer_scaled = scaler.transform(customer_df)\n",
    "    \n",
    "    print(\"Predicting using Decision Tree...\")\n",
    "    tree_pred = tree_model.predict(customer_scaled)\n",
    "    tree_prob = tree_model.predict_proba(customer_scaled)[:, 1]\n",
    "    \n",
    "    print(\"Predicting using SVM...\")\n",
    "    svm_pred = svm_model.predict(customer_scaled)\n",
    "    svm_prob = svm_model.predict_proba(customer_scaled)[:, 1]\n",
    "    \n",
    "    return {\n",
    "        \"Decision_Tree\": {\"Prediction\": int(tree_pred[0]), \"Probability\": float(tree_prob[0])},\n",
    "        \"SVM\": {\"Prediction\": int(svm_pred[0]), \"Probability\": float(svm_prob[0])}\n",
    "    }"
   ]
  },
  {
   "cell_type": "code",
   "execution_count": 217,
   "id": "b9dcaea3-c892-4acf-b487-b4c878857880",
   "metadata": {},
   "outputs": [
    {
     "name": "stdout",
     "output_type": "stream",
     "text": [
      "Scaling new customer data...\n",
      "Predicting using Decision Tree...\n",
      "Predicting using SVM...\n",
      "Prediction Results:\n",
      "Decision Tree - Purchase Prediction: 0, Probability: 0.00\n",
      "SVM - Purchase Prediction: 0, Probability: 0.24\n"
     ]
    }
   ],
   "source": [
    "# Select a sample from the dataset\n",
    "sample_index = np.random.randint(0, len(X))  # Select a random index\n",
    "test_data = X.iloc[sample_index].to_dict()  # Convert the row to a dictionary\n",
    "\n",
    "# Predict using the real sample\n",
    "prediction_result = predict_customer_purchase(test_data)\n",
    "\n",
    "# Display the prediction results\n",
    "print(\"Prediction Results:\")\n",
    "print(f\"Decision Tree - Purchase Prediction: {prediction_result['Decision_Tree']['Prediction']}, \"\n",
    "      f\"Probability: {prediction_result['Decision_Tree']['Probability']:.2f}\")\n",
    "print(f\"SVM - Purchase Prediction: {prediction_result['SVM']['Prediction']}, \"\n",
    "      f\"Probability: {prediction_result['SVM']['Probability']:.2f}\")"
   ]
  },
  {
   "cell_type": "code",
   "execution_count": null,
   "id": "c1e96b91-0465-4296-8cdd-335d4772f2ef",
   "metadata": {},
   "outputs": [],
   "source": []
  }
 ],
 "metadata": {
  "kernelspec": {
   "display_name": "Python [conda env:base] *",
   "language": "python",
   "name": "conda-base-py"
  },
  "language_info": {
   "codemirror_mode": {
    "name": "ipython",
    "version": 3
   },
   "file_extension": ".py",
   "mimetype": "text/x-python",
   "name": "python",
   "nbconvert_exporter": "python",
   "pygments_lexer": "ipython3",
   "version": "3.12.7"
  }
 },
 "nbformat": 4,
 "nbformat_minor": 5
}
